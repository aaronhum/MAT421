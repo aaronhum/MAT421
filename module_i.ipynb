{
  "nbformat": 4,
  "nbformat_minor": 0,
  "metadata": {
    "colab": {
      "name": "module_i.ipynb",
      "provenance": [],
      "collapsed_sections": []
    },
    "kernelspec": {
      "name": "python3",
      "display_name": "Python 3"
    },
    "language_info": {
      "name": "python"
    }
  },
  "cells": [
    {
      "cell_type": "markdown",
      "source": [
        "# Module I Probability Chapter 2"
      ],
      "metadata": {
        "id": "OHePCuIRnYud"
      }
    },
    {
      "cell_type": "markdown",
      "source": [
        "## 2.1 Intorduction \n",
        "\n",
        "From the book: \n",
        "\n",
        "\"Probability concerns the study of uncertainty and is often used to quantify\n",
        "uncertainty in the data analysis and prediction, uncertainty in the data sci-\n",
        "ence and machine learning model. Probability is a key mathematical concept\n",
        "that is essential for modeling and understanding various model performance.\n",
        "Data science and machine learning rely heavily on probabilistic models. This\n",
        "section will provide the necessary probability background for learning and un-\n",
        "derstanding data science concepts. It will introduce the concept of probabil-\n",
        "ity, provide an overview of probability distribution, conditional probability,\n",
        "random variables, and describe how to compute expectation and variance.\n",
        "In addition, it includes maximum likelihood estimation. Further probablility\n",
        "and their applications can be found in many references [6, 7, 3].\""
      ],
      "metadata": {
        "id": "zLnPDl_dnkwP"
      }
    },
    {
      "cell_type": "markdown",
      "source": [
        "## 2.1 Intorduction \n",
        "\n",
        "From the book: \n",
        "\n",
        "\"A probability distribution is the mathematical function that gives the prob-\n",
        "abilities of occurrence of different possible outcomes for an experiment. We\n",
        "will discuss both discrete and continuous probability distributions.\""
      ],
      "metadata": {
        "id": "yDPtxv61nx7D"
      }
    },
    {
      "cell_type": "markdown",
      "source": [
        "### 2.2.1 Probability Axioms\n",
        "\n",
        "#### 2.2.1.1 Sample Spaces and Events\n",
        "\n",
        "Example: a coinflip, sample space is \"heads\" or \"tails\", event is a flip.\n",
        "\n",
        "simulate flipping a coin 10 times"
      ],
      "metadata": {
        "id": "rLEnlxK6oDYs"
      }
    },
    {
      "cell_type": "code",
      "execution_count": 8,
      "metadata": {
        "colab": {
          "base_uri": "https://localhost:8080/"
        },
        "id": "vt0FeuRTnACF",
        "outputId": "5691088a-96b1-4676-84ff-be3476d3c795"
      },
      "outputs": [
        {
          "output_type": "stream",
          "name": "stdout",
          "text": [
            "heads\n",
            "heads\n",
            "tails\n",
            "tails\n",
            "tails\n",
            "heads\n",
            "tails\n",
            "heads\n",
            "heads\n",
            "heads\n"
          ]
        }
      ],
      "source": [
        "import random\n",
        "import string\n",
        "\n",
        "def flipCoin():\n",
        "    return random.choice([\"heads\",\"tails\"])\n",
        "\n",
        "for i in range(0,10):\n",
        "    print(flipCoin())"
      ]
    },
    {
      "cell_type": "markdown",
      "source": [
        "### 2.2.2 Conditional Probability\n",
        "\n",
        "Example: Calculate Conditional Probability in Python\n",
        "\n",
        "Suppose we send out a survey to 300 individuals asking them which sport they like best: baseball, basketball, football, or soccer.\n",
        "\n",
        "We can create the following table in Python to hold the survey responses:"
      ],
      "metadata": {
        "id": "Yo9_FXBhp01c"
      }
    },
    {
      "cell_type": "code",
      "source": [
        "import pandas as pd\n",
        "import numpy as np\n",
        "\n",
        "#create pandas DataFrame with raw data\n",
        "df = pd.DataFrame({'gender': np.repeat(np.array(['Male', 'Female']), 150),\n",
        "                   'sport': np.repeat(np.array(['Baseball', 'Basketball', 'Football',\n",
        "                                                'Soccer', 'Baseball', 'Basketball',\n",
        "                                                'Football', 'Soccer']), \n",
        "                                    (34, 40, 58, 18, 34, 52, 20, 44))})\n",
        "\n",
        "#produce contingency table to summarize raw data\n",
        "survey_data = pd.crosstab(index=df['gender'], columns=df['sport'], margins=True)\n",
        "\n",
        "#view contingency table\n",
        "survey_data"
      ],
      "metadata": {
        "colab": {
          "base_uri": "https://localhost:8080/",
          "height": 175
        },
        "id": "PAyIQ1NdqPBo",
        "outputId": "4c024f4c-a574-4456-d4f5-543e9b9c30d4"
      },
      "execution_count": 9,
      "outputs": [
        {
          "output_type": "execute_result",
          "data": {
            "text/plain": [
              "sport   Baseball  Basketball  Football  Soccer  All\n",
              "gender                                             \n",
              "Female        34          52        20      44  150\n",
              "Male          34          40        58      18  150\n",
              "All           68          92        78      62  300"
            ],
            "text/html": [
              "\n",
              "  <div id=\"df-0f7b77f3-b554-49f1-b457-d28b2d33de4a\">\n",
              "    <div class=\"colab-df-container\">\n",
              "      <div>\n",
              "<style scoped>\n",
              "    .dataframe tbody tr th:only-of-type {\n",
              "        vertical-align: middle;\n",
              "    }\n",
              "\n",
              "    .dataframe tbody tr th {\n",
              "        vertical-align: top;\n",
              "    }\n",
              "\n",
              "    .dataframe thead th {\n",
              "        text-align: right;\n",
              "    }\n",
              "</style>\n",
              "<table border=\"1\" class=\"dataframe\">\n",
              "  <thead>\n",
              "    <tr style=\"text-align: right;\">\n",
              "      <th>sport</th>\n",
              "      <th>Baseball</th>\n",
              "      <th>Basketball</th>\n",
              "      <th>Football</th>\n",
              "      <th>Soccer</th>\n",
              "      <th>All</th>\n",
              "    </tr>\n",
              "    <tr>\n",
              "      <th>gender</th>\n",
              "      <th></th>\n",
              "      <th></th>\n",
              "      <th></th>\n",
              "      <th></th>\n",
              "      <th></th>\n",
              "    </tr>\n",
              "  </thead>\n",
              "  <tbody>\n",
              "    <tr>\n",
              "      <th>Female</th>\n",
              "      <td>34</td>\n",
              "      <td>52</td>\n",
              "      <td>20</td>\n",
              "      <td>44</td>\n",
              "      <td>150</td>\n",
              "    </tr>\n",
              "    <tr>\n",
              "      <th>Male</th>\n",
              "      <td>34</td>\n",
              "      <td>40</td>\n",
              "      <td>58</td>\n",
              "      <td>18</td>\n",
              "      <td>150</td>\n",
              "    </tr>\n",
              "    <tr>\n",
              "      <th>All</th>\n",
              "      <td>68</td>\n",
              "      <td>92</td>\n",
              "      <td>78</td>\n",
              "      <td>62</td>\n",
              "      <td>300</td>\n",
              "    </tr>\n",
              "  </tbody>\n",
              "</table>\n",
              "</div>\n",
              "      <button class=\"colab-df-convert\" onclick=\"convertToInteractive('df-0f7b77f3-b554-49f1-b457-d28b2d33de4a')\"\n",
              "              title=\"Convert this dataframe to an interactive table.\"\n",
              "              style=\"display:none;\">\n",
              "        \n",
              "  <svg xmlns=\"http://www.w3.org/2000/svg\" height=\"24px\"viewBox=\"0 0 24 24\"\n",
              "       width=\"24px\">\n",
              "    <path d=\"M0 0h24v24H0V0z\" fill=\"none\"/>\n",
              "    <path d=\"M18.56 5.44l.94 2.06.94-2.06 2.06-.94-2.06-.94-.94-2.06-.94 2.06-2.06.94zm-11 1L8.5 8.5l.94-2.06 2.06-.94-2.06-.94L8.5 2.5l-.94 2.06-2.06.94zm10 10l.94 2.06.94-2.06 2.06-.94-2.06-.94-.94-2.06-.94 2.06-2.06.94z\"/><path d=\"M17.41 7.96l-1.37-1.37c-.4-.4-.92-.59-1.43-.59-.52 0-1.04.2-1.43.59L10.3 9.45l-7.72 7.72c-.78.78-.78 2.05 0 2.83L4 21.41c.39.39.9.59 1.41.59.51 0 1.02-.2 1.41-.59l7.78-7.78 2.81-2.81c.8-.78.8-2.07 0-2.86zM5.41 20L4 18.59l7.72-7.72 1.47 1.35L5.41 20z\"/>\n",
              "  </svg>\n",
              "      </button>\n",
              "      \n",
              "  <style>\n",
              "    .colab-df-container {\n",
              "      display:flex;\n",
              "      flex-wrap:wrap;\n",
              "      gap: 12px;\n",
              "    }\n",
              "\n",
              "    .colab-df-convert {\n",
              "      background-color: #E8F0FE;\n",
              "      border: none;\n",
              "      border-radius: 50%;\n",
              "      cursor: pointer;\n",
              "      display: none;\n",
              "      fill: #1967D2;\n",
              "      height: 32px;\n",
              "      padding: 0 0 0 0;\n",
              "      width: 32px;\n",
              "    }\n",
              "\n",
              "    .colab-df-convert:hover {\n",
              "      background-color: #E2EBFA;\n",
              "      box-shadow: 0px 1px 2px rgba(60, 64, 67, 0.3), 0px 1px 3px 1px rgba(60, 64, 67, 0.15);\n",
              "      fill: #174EA6;\n",
              "    }\n",
              "\n",
              "    [theme=dark] .colab-df-convert {\n",
              "      background-color: #3B4455;\n",
              "      fill: #D2E3FC;\n",
              "    }\n",
              "\n",
              "    [theme=dark] .colab-df-convert:hover {\n",
              "      background-color: #434B5C;\n",
              "      box-shadow: 0px 1px 3px 1px rgba(0, 0, 0, 0.15);\n",
              "      filter: drop-shadow(0px 1px 2px rgba(0, 0, 0, 0.3));\n",
              "      fill: #FFFFFF;\n",
              "    }\n",
              "  </style>\n",
              "\n",
              "      <script>\n",
              "        const buttonEl =\n",
              "          document.querySelector('#df-0f7b77f3-b554-49f1-b457-d28b2d33de4a button.colab-df-convert');\n",
              "        buttonEl.style.display =\n",
              "          google.colab.kernel.accessAllowed ? 'block' : 'none';\n",
              "\n",
              "        async function convertToInteractive(key) {\n",
              "          const element = document.querySelector('#df-0f7b77f3-b554-49f1-b457-d28b2d33de4a');\n",
              "          const dataTable =\n",
              "            await google.colab.kernel.invokeFunction('convertToInteractive',\n",
              "                                                     [key], {});\n",
              "          if (!dataTable) return;\n",
              "\n",
              "          const docLinkHtml = 'Like what you see? Visit the ' +\n",
              "            '<a target=\"_blank\" href=https://colab.research.google.com/notebooks/data_table.ipynb>data table notebook</a>'\n",
              "            + ' to learn more about interactive tables.';\n",
              "          element.innerHTML = '';\n",
              "          dataTable['output_type'] = 'display_data';\n",
              "          await google.colab.output.renderOutput(dataTable, element);\n",
              "          const docLink = document.createElement('div');\n",
              "          docLink.innerHTML = docLinkHtml;\n",
              "          element.appendChild(docLink);\n",
              "        }\n",
              "      </script>\n",
              "    </div>\n",
              "  </div>\n",
              "  "
            ]
          },
          "metadata": {},
          "execution_count": 9
        }
      ]
    },
    {
      "cell_type": "code",
      "source": [
        "#extract value in second row and first column \n",
        "survey_data.iloc[1, 0]"
      ],
      "metadata": {
        "colab": {
          "base_uri": "https://localhost:8080/"
        },
        "id": "bubxGXsQqYqu",
        "outputId": "e842afe6-f38b-4bb7-84ce-c0bcd04851fd"
      },
      "execution_count": 11,
      "outputs": [
        {
          "output_type": "execute_result",
          "data": {
            "text/plain": [
              "34"
            ]
          },
          "metadata": {},
          "execution_count": 11
        }
      ]
    },
    {
      "cell_type": "code",
      "source": [
        "#calculate probability of being male, given that individual prefers baseball\n",
        "survey_data.iloc[1, 0] / survey_data.iloc[2, 0]"
      ],
      "metadata": {
        "colab": {
          "base_uri": "https://localhost:8080/"
        },
        "id": "hx1ShIYeqeV4",
        "outputId": "6ea395e6-a0a1-4d9d-ff26-6bce1cadb252"
      },
      "execution_count": 12,
      "outputs": [
        {
          "output_type": "execute_result",
          "data": {
            "text/plain": [
              "0.5"
            ]
          },
          "metadata": {},
          "execution_count": 12
        }
      ]
    },
    {
      "cell_type": "code",
      "source": [
        "#calculate probability of preferring basketball, given that individual is female\n",
        "survey_data.iloc[0, 1] / survey_data.iloc[0, 4]"
      ],
      "metadata": {
        "colab": {
          "base_uri": "https://localhost:8080/"
        },
        "id": "zBqXNgI-qjG_",
        "outputId": "fb0ce2bd-f209-406c-f189-419ad53e93b6"
      },
      "execution_count": 13,
      "outputs": [
        {
          "output_type": "execute_result",
          "data": {
            "text/plain": [
              "0.3466666666666667"
            ]
          },
          "metadata": {},
          "execution_count": 13
        }
      ]
    },
    {
      "cell_type": "markdown",
      "source": [
        ""
      ],
      "metadata": {
        "id": "G4c5eLSEqF5l"
      }
    }
  ]
}