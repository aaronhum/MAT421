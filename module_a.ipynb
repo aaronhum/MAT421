{
 "cells": [
  {
   "cell_type": "markdown",
   "metadata": {},
   "source": [
    "# Module A: Chapter 9 Representation of Numbers\n",
    "\n",
    "## 9.1 Base-N and Binary\n",
    "\n",
    "### Example 1 \n",
    "Example showing the decimal expansion of 147.3"
   ]
  },
  {
   "cell_type": "code",
   "execution_count": 43,
   "metadata": {},
   "outputs": [
    {
     "name": "stdout",
     "output_type": "stream",
     "text": [
      "147.3\n"
     ]
    }
   ],
   "source": [
    "ex1 = 1*10**2 + 4*10**1 + 7*10**0 + 3*10**-1\n",
    "\n",
    "# Expected output: 147.3\n",
    "print(ex1)"
   ]
  },
  {
   "cell_type": "markdown",
   "metadata": {},
   "source": [
    "### Example 2 \n",
    "Convert binary to base-10"
   ]
  },
  {
   "cell_type": "code",
   "execution_count": 44,
   "metadata": {},
   "outputs": [
    {
     "name": "stdout",
     "output_type": "stream",
     "text": [
      "37\n"
     ]
    }
   ],
   "source": [
    "# binary value: 100101\n",
    "ex2 = 1*2**5 + 0*2**4 + 0*2**3 + 1*2**2 + 0*2**1 + 1*2**0\n",
    "\n",
    "# base-10 value: 37\n",
    "# Expected output: 37\n",
    "print(ex2)"
   ]
  },
  {
   "cell_type": "markdown",
   "metadata": {},
   "source": [
    "## 9.2 Floating Point Numbers\n",
    "\n",
    "### Example 1 \n",
    "Numpy Spacing Check"
   ]
  },
  {
   "cell_type": "code",
   "execution_count": 45,
   "metadata": {},
   "outputs": [],
   "source": [
    "# import numpy as np\n",
    "#\"TRY IT! Use the spacing function to determine the gap at 1e9. \n",
    "# Verify that adding a number to 1e9 that is less than half the \n",
    "# gap at 1e9 results in the same number.\"\n",
    "\n",
    "# Expected output: 1.1920928955078125e-07\n",
    "# print(np.spacing(1e9))\n",
    "# Expected output: True\n",
    "# print(1e9 == (1e9 + np.spacing(1e9)/3))\n"
   ]
  },
  {
   "cell_type": "markdown",
   "metadata": {},
   "source": [
    "## 9.3 Round-off Errors\n",
    "\n",
    "### Example 1 \n",
    "Round-off error by floating point arithmetic"
   ]
  },
  {
   "cell_type": "code",
   "execution_count": 46,
   "metadata": {},
   "outputs": [
    {
     "name": "stdout",
     "output_type": "stream",
     "text": [
      "False\n",
      "-0.04499999999999993\n"
     ]
    }
   ],
   "source": [
    "# due to floating point arithmetic, 4.9 - 4.845 doesn't equal .055,\n",
    "# it actually equals 0.055000000000000604\n",
    "\n",
    "# Expected output: False\n",
    "print(4.9 - 4.845 == 0.055)\n",
    "\n",
    "# Expected output: -0.04499999999999993\n",
    "print(4.8 - 4.845)"
   ]
  },
  {
   "cell_type": "markdown",
   "metadata": {},
   "source": [
    "### Example 2 \n",
    "Accumulation of rount-off error"
   ]
  },
  {
   "cell_type": "code",
   "execution_count": 47,
   "metadata": {},
   "outputs": [
    {
     "name": "stdout",
     "output_type": "stream",
     "text": [
      "1.0\n",
      "1.0000000000000002\n",
      "1.0000000000000064\n"
     ]
    }
   ],
   "source": [
    "# If we only do once\n",
    "# Expected output: 1.0\n",
    "print(1 + 1/3 - 1/3)\n",
    "\n",
    "# Define a function to iterate adding and subtracting\n",
    "def add_and_subtract(iterations):\n",
    "    result = 1\n",
    "\n",
    "    for i in range(iterations):\n",
    "        result += 1/3\n",
    "    \n",
    "    for i in range(iterations):\n",
    "        result -= 1/3\n",
    "\n",
    "    return result\n",
    "\n",
    "# 100 times\n",
    "# Expected output: 1.0000000000000002\n",
    "print(add_and_subtract(100))\n",
    "\n",
    "# 1000 times\n",
    "# Expected output: 1.0000000000001166\n",
    "print(add_and_subtract(1000))"
   ]
  }
 ],
 "metadata": {
  "interpreter": {
   "hash": "2c948cddf896161a1d7f91c6ae189d218fd0ee3048e00bd5b13002b76c05dcd5"
  },
  "kernelspec": {
   "display_name": "Python 3.10.1 64-bit",
   "language": "python",
   "name": "python3"
  },
  "language_info": {
   "codemirror_mode": {
    "name": "ipython",
    "version": 3
   },
   "file_extension": ".py",
   "mimetype": "text/x-python",
   "name": "python",
   "nbconvert_exporter": "python",
   "pygments_lexer": "ipython3",
   "version": "3.10.1"
  },
  "orig_nbformat": 4
 },
 "nbformat": 4,
 "nbformat_minor": 2
}
