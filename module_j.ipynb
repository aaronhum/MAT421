{
  "nbformat": 4,
  "nbformat_minor": 0,
  "metadata": {
    "colab": {
      "name": "module_j.ipynb",
      "provenance": []
    },
    "kernelspec": {
      "name": "python3",
      "display_name": "Python 3"
    },
    "language_info": {
      "name": "python"
    }
  },
  "cells": [
    {
      "cell_type": "markdown",
      "source": [
        "# Module J Network Analysis Chapter 4"
      ],
      "metadata": {
        "id": "7LCnEh-asBUN"
      }
    },
    {
      "cell_type": "markdown",
      "source": [
        "## 4.1 Introduction\n",
        "\n",
        "### 4.1.2 Laplacian Matrix\n",
        "\n",
        "Example: 2d laplacian in python"
      ],
      "metadata": {
        "id": "9n0ZL7Z4sPb5"
      }
    },
    {
      "cell_type": "code",
      "execution_count": 2,
      "metadata": {
        "colab": {
          "base_uri": "https://localhost:8080/"
        },
        "id": "LvwD_Jvwr3Iz",
        "outputId": "504896e3-4821-4d94-870b-21911504c141"
      },
      "outputs": [
        {
          "output_type": "stream",
          "name": "stdout",
          "text": [
            "[[-4.  1.  0.  1.  0.  0.  0.  0.  0.]\n",
            " [ 1. -4.  1.  0.  1.  0.  0.  0.  0.]\n",
            " [ 0.  1. -4.  1.  0.  1.  0.  0.  0.]\n",
            " [ 1.  0.  1. -4.  0.  0.  1.  0.  0.]\n",
            " [ 0.  1.  0.  0. -4.  1.  0.  1.  0.]\n",
            " [ 0.  0.  1.  0.  1. -4.  1.  0.  1.]\n",
            " [ 0.  0.  0.  1.  0.  1. -4.  1.  0.]\n",
            " [ 0.  0.  0.  0.  1.  0.  1. -4.  0.]\n",
            " [ 0.  0.  0.  0.  0.  1.  0.  0. -4.]]\n"
          ]
        }
      ],
      "source": [
        "import numpy as np\n",
        "from scipy import sparse\n",
        "\n",
        "nx, ny = 3, 3\n",
        "N  = nx*ny\n",
        "main_diag = np.ones(N)*-4.0\n",
        "side_diag = np.ones(N-1)\n",
        "side_diag[np.arange(1,N)%4==0] = 0\n",
        "up_down_diag = np.ones(N-3)\n",
        "diagonals = [main_diag,side_diag,side_diag,up_down_diag,up_down_diag]\n",
        "laplacian = sparse.diags(diagonals, [0, -1, 1,nx,-nx], format=\"csr\")\n",
        "\n",
        "print(laplacian.toarray())"
      ]
    },
    {
      "cell_type": "markdown",
      "source": [
        "## 4.2 Spectral Graph Bipartitioning\n",
        "\n",
        "Example: "
      ],
      "metadata": {
        "id": "hwMmic-4uEZy"
      }
    },
    {
      "cell_type": "code",
      "source": [
        "import numpy as np\n",
        "from sklearn.cluster import SpectralClustering\n",
        "from sklearn import metrics\n",
        "np.random.seed(0)\n",
        "\n",
        "adj_mat = [[3,2,2,0,0,0,0,0,0],\n",
        "           [2,3,2,0,0,0,0,0,0],\n",
        "           [2,2,3,1,0,0,0,0,0],\n",
        "           [0,0,1,3,3,3,0,0,0],\n",
        "           [0,0,0,3,3,3,0,0,0],\n",
        "           [0,0,0,3,3,3,1,0,0],\n",
        "           [0,0,0,0,0,1,3,1,1],\n",
        "           [0,0,0,0,0,0,1,3,1],\n",
        "           [0,0,0,0,0,0,1,1,3]]\n",
        "\n",
        "adj_mat = np.array(adj_mat)\n",
        "\n",
        "sc = SpectralClustering(3, affinity='precomputed', n_init=100)\n",
        "sc.fit(adj_mat)\n",
        "\n",
        "print('spectral clustering')\n",
        "print(sc.labels_)"
      ],
      "metadata": {
        "colab": {
          "base_uri": "https://localhost:8080/"
        },
        "id": "vXXAWlaMuiiz",
        "outputId": "926a814b-8ca5-444d-ecc1-76e1b3e1b8c6"
      },
      "execution_count": 3,
      "outputs": [
        {
          "output_type": "stream",
          "name": "stdout",
          "text": [
            "spectral clustering\n",
            "[0 0 0 2 2 2 1 1 1]\n"
          ]
        }
      ]
    }
  ]
}