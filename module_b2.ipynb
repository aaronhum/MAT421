{
  "cells": [
    {
      "cell_type": "markdown",
      "metadata": {
        "id": "5HcLsIrV8Wm_"
      },
      "source": [
        "# Module B: Chapter 17 Interpolation\n",
        "## 17.4 Lagrange Polynomial Interpolation\n",
        "\n",
        "### Example 1\n",
        "Find the Lagrange basis polynomials for the data set x = [0, 1, 2] and y = [1, 3, 2]. Plot each polynomial and verify the property that Pi(xj)=1 when i=j and Pi(xj)=0 when i≠j."
      ]
    },
    {
      "cell_type": "code",
      "execution_count": 5,
      "metadata": {
        "id": "raeDtuLK9Xg4"
      },
      "outputs": [
        {
          "ename": "ModuleNotFoundError",
          "evalue": "No module named 'matplotlib'",
          "output_type": "error",
          "traceback": [
            "\u001b[1;31m---------------------------------------------------------------------------\u001b[0m",
            "\u001b[1;31mModuleNotFoundError\u001b[0m                       Traceback (most recent call last)",
            "Input \u001b[1;32mIn [5]\u001b[0m, in \u001b[0;36m<module>\u001b[1;34m\u001b[0m\n\u001b[0;32m      1\u001b[0m \u001b[38;5;28;01mimport\u001b[39;00m \u001b[38;5;21;01mnumpy\u001b[39;00m \u001b[38;5;28;01mas\u001b[39;00m \u001b[38;5;21;01mnp\u001b[39;00m\n\u001b[0;32m      2\u001b[0m \u001b[38;5;28;01mimport\u001b[39;00m \u001b[38;5;21;01mnumpy\u001b[39;00m\u001b[38;5;21;01m.\u001b[39;00m\u001b[38;5;21;01mpolynomial\u001b[39;00m\u001b[38;5;21;01m.\u001b[39;00m\u001b[38;5;21;01mpolynomial\u001b[39;00m \u001b[38;5;28;01mas\u001b[39;00m \u001b[38;5;21;01mpoly\u001b[39;00m\n\u001b[1;32m----> 3\u001b[0m \u001b[38;5;28;01mimport\u001b[39;00m \u001b[38;5;21;01mmatplotlib\u001b[39;00m\u001b[38;5;21;01m.\u001b[39;00m\u001b[38;5;21;01mpyplot\u001b[39;00m \u001b[38;5;28;01mas\u001b[39;00m \u001b[38;5;21;01mplt\u001b[39;00m\n\u001b[0;32m      5\u001b[0m plt\u001b[38;5;241m.\u001b[39mstyle\u001b[38;5;241m.\u001b[39muse(\u001b[38;5;124m'\u001b[39m\u001b[38;5;124mseaborn-poster\u001b[39m\u001b[38;5;124m'\u001b[39m)\n",
            "\u001b[1;31mModuleNotFoundError\u001b[0m: No module named 'matplotlib'"
          ]
        }
      ],
      "source": [
        "import numpy as np\n",
        "import numpy.polynomial.polynomial as poly\n",
        "import matplotlib.pyplot as plt\n",
        "\n",
        "plt.style.use('seaborn-poster')"
      ]
    },
    {
      "cell_type": "code",
      "execution_count": null,
      "metadata": {
        "colab": {
          "base_uri": "https://localhost:8080/"
        },
        "id": "uf_09dcM8Ay8",
        "outputId": "a2f1907e-839f-4fc3-bd18-761684e3b638"
      },
      "outputs": [
        {
          "name": "stdout",
          "output_type": "stream",
          "text": [
            "2.5\n"
          ]
        }
      ],
      "source": [
        "x = [0, 1, 2]\n",
        "y = [1, 3, 2]\n",
        "P1_coeff = [1,-1.5,.5]\n",
        "P2_coeff = [0, 2,-1]\n",
        "P3_coeff = [0,-.5,.5]\n",
        "\n",
        "# get the polynomial function\n",
        "P1 = poly.Polynomial(P1_coeff)\n",
        "P2 = poly.Polynomial(P2_coeff)\n",
        "P3 = poly.Polynomial(P3_coeff)\n",
        "\n",
        "x_new = np.arange(-1.0, 3.1, 0.1)\n",
        "\n",
        "fig = plt.figure(figsize = (10,8))\n",
        "plt.plot(x_new, P1(x_new), 'b', label = 'P1')\n",
        "plt.plot(x_new, P2(x_new), 'r', label = 'P2')\n",
        "plt.plot(x_new, P3(x_new), 'g', label = 'P3')\n",
        "\n",
        "plt.plot(x, np.ones(len(x)), 'ko', x, np.zeros(len(x)), 'ko')\n",
        "plt.title('Lagrange Basis Polynomials')\n",
        "plt.xlabel('x')\n",
        "plt.ylabel('y')\n",
        "plt.grid()\n",
        "plt.legend()\n",
        "plt.show()"
      ]
    },
    {
      "cell_type": "markdown",
      "metadata": {
        "id": "P5HmhVGZZ-jR"
      },
      "source": [
        "## 17.4 Newton's Polynomial Interpolation\n",
        "### Example 1 \n",
        "Calculate the divided differences table for x = [-5, -1, 0, 2], y = [-2, 6, 1, 3]."
      ]
    },
    {
      "cell_type": "code",
      "execution_count": null,
      "metadata": {
        "id": "vYX_5pKkaQJ-"
      },
      "outputs": [],
      "source": [
        "import numpy as np\n",
        "import matplotlib.pyplot as plt\n",
        "\n",
        "plt.style.use('seaborn-poster')\n",
        "\n",
        "%matplotlib inline"
      ]
    },
    {
      "cell_type": "code",
      "execution_count": null,
      "metadata": {
        "id": "U68DzXofaS-7"
      },
      "outputs": [],
      "source": [
        "def divided_diff(x, y):\n",
        "    '''\n",
        "    function to calculate the divided\n",
        "    differences table\n",
        "    '''\n",
        "    n = len(y)\n",
        "    coef = np.zeros([n, n])\n",
        "    # the first column is y\n",
        "    coef[:,0] = y\n",
        "    \n",
        "    for j in range(1,n):\n",
        "        for i in range(n-j):\n",
        "            coef[i][j] = \\\n",
        "           (coef[i+1][j-1] - coef[i][j-1]) / (x[i+j]-x[i])\n",
        "            \n",
        "    return coef\n",
        "\n",
        "def newton_poly(coef, x_data, x):\n",
        "    '''\n",
        "    evaluate the newton polynomial \n",
        "    at x\n",
        "    '''\n",
        "    n = len(x_data) - 1 \n",
        "    p = coef[n]\n",
        "    for k in range(1,n+1):\n",
        "        p = coef[n-k] + (x -x_data[n-k])*p\n",
        "    return p"
      ]
    },
    {
      "cell_type": "code",
      "execution_count": null,
      "metadata": {
        "colab": {
          "base_uri": "https://localhost:8080/",
          "height": 538
        },
        "id": "GeGvIJMvaVOa",
        "outputId": "e6f90583-5f46-47e2-85ab-80bed204013e"
      },
      "outputs": [
        {
          "data": {
            "image/png": "[encoded data removed]",
            "text/plain": [
              "<Figure size 720x576 with 1 Axes>"
            ]
          },
          "metadata": {
            "needs_background": "light"
          },
          "output_type": "display_data"
        }
      ],
      "source": [
        "x = np.array([-5, -1, 0, 2])\n",
        "y = np.array([-2, 6, 1, 3])\n",
        "# get the divided difference coef\n",
        "a_s = divided_diff(x, y)[0, :]\n",
        "\n",
        "# evaluate on new data points\n",
        "x_new = np.arange(-5, 2.1, .1)\n",
        "y_new = newton_poly(a_s, x, x_new)\n",
        "\n",
        "plt.figure(figsize = (12, 8))\n",
        "plt.plot(x, y, 'bo')\n",
        "plt.plot(x_new, y_new)"
      ]
    },
    {
      "cell_type": "code",
      "execution_count": null,
      "metadata": {},
      "outputs": [],
      "source": [
        "[<matplotlib.lines.Line2D at 0x11bd4e630>]"
      ]
    }
  ],
  "metadata": {
    "colab": {
      "collapsed_sections": [],
      "name": "module_b.ipynb",
      "provenance": []
    },
    "kernelspec": {
      "display_name": "Python 3",
      "name": "python3"
    },
    "language_info": {
      "codemirror_mode": {
        "name": "ipython",
        "version": 3
      },
      "file_extension": ".py",
      "mimetype": "text/x-python",
      "name": "python",
      "nbconvert_exporter": "python",
      "pygments_lexer": "ipython3",
      "version": "3.9.10"
    }
  },
  "nbformat": 4,
  "nbformat_minor": 0
}
