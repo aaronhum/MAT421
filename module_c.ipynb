{
  "nbformat": 4,
  "nbformat_minor": 0,
  "metadata": {
    "colab": {
      "name": "module_c.ipynb",
      "provenance": [],
      "collapsed_sections": []
    },
    "kernelspec": {
      "name": "python3",
      "display_name": "Python 3"
    },
    "language_info": {
      "name": "python"
    }
  },
  "cells": [
    {
      "cell_type": "markdown",
      "source": [
        "# Module C: Chapter 19 Root Finding"
      ],
      "metadata": {
        "id": "kBLSRFaNZiKV"
      }
    },
    {
      "cell_type": "markdown",
      "source": [
        "## 19.1 Root Finding Problem Statement \n",
        "\n",
        "### Statement (from the book)\n",
        "The root or zero of a function, f(x), is an xr such that f(xr)=0. For functions such as f(x)=x2−9, the roots are clearly 3 and −3. However, for other functions such as f(x)=cos(x)−x, determining an analytic, or exact, solution for the roots of functions can be difficult. For these cases, it is useful to generate numerical approximations of the roots of f and understand the limitations in doing so."
      ],
      "metadata": {
        "id": "PlrX4Mr6aedy"
      }
    },
    {
      "cell_type": "markdown",
      "source": [
        "## 19.2 Tolerance\n",
        "\n",
        "### Statement (from the book)\n",
        "In engineering and science, error is a deviation from an expected or computed value. Tolerance is the level of error that is acceptable for an engineering application. We say that a computer program has converged to a solution when it has found a solution with an error smaller than the tolerance. When computing roots numerically, or conducting any other kind of numerical analysis, it is important to establish both a metric for error and a tolerance that is suitable for a given engineering/science application.\n",
        "\n",
        "### Example 1\n",
        "TRY IT! Let error be measured by e=|f(x)| and tol be the acceptable level of error. The function f(x)=x2+tol/2 has no real roots. However, |f(0)|=tol/2 and is therefore acceptable as a solution for a root finding program.\n",
        "\n",
        "### Example 2\n",
        "TRY IT! Let error be measured by e=|xi+1−xi| and tol be the acceptable level of error. The function f(x)=1/x has no real roots, but the guesses xi=−tol/4 and xi+1=tol/4 have an error of e=tol/2 and is an acceptable solution for a computer program."
      ],
      "metadata": {
        "id": "TonxLW5Xaiae"
      }
    },
    {
      "cell_type": "markdown",
      "source": [
        "## 19.3 Bisection Method\n",
        "\n",
        "### Example 1\n",
        "Program a function my_bisection(f, a, b, tol) that approximates a root r of f, bounded by a and b to within |f(a+b2)|<tol."
      ],
      "metadata": {
        "id": "YVSFeJapaqNx"
      }
    },
    {
      "cell_type": "code",
      "source": [
        "import numpy as np\n",
        "\n",
        "def my_bisection(f, a, b, tol): \n",
        "    # approximates a root, R, of f bounded \n",
        "    # by a and b to within tolerance \n",
        "    # | f(m) | < tol with m the midpoint \n",
        "    # between a and b Recursive implementation\n",
        "    \n",
        "    # check if a and b bound a root\n",
        "    if np.sign(f(a)) == np.sign(f(b)):\n",
        "        raise Exception(\n",
        "         \"The scalars a and b do not bound a root\")\n",
        "        \n",
        "    # get midpoint\n",
        "    m = (a + b)/2\n",
        "    \n",
        "    if np.abs(f(m)) < tol:\n",
        "        # stopping condition, report m as root\n",
        "        return m\n",
        "    elif np.sign(f(a)) == np.sign(f(m)):\n",
        "        # case where m is an improvement on a. \n",
        "        # Make recursive call with a = m\n",
        "        return my_bisection(f, m, b, tol)\n",
        "    elif np.sign(f(b)) == np.sign(f(m)):\n",
        "        # case where m is an improvement on b. \n",
        "        # Make recursive call with b = m\n",
        "        return my_bisection(f, a, m, tol)"
      ],
      "metadata": {
        "id": "skOQ_swqa8YC"
      },
      "execution_count": 20,
      "outputs": []
    },
    {
      "cell_type": "markdown",
      "source": [
        "### Example 2\n",
        "The 2–√ can be computed as the root of the function f(x)=x2−2. Starting at a=0 and b=2, use my_bisection to approximate the 2–√ to a tolerance of |f(x)|<0.1 and |f(x)|<0.01. Verify that the results are close to a root by plugging the root back into the function."
      ],
      "metadata": {
        "id": "olUCBFIbbAWN"
      }
    },
    {
      "cell_type": "code",
      "source": [
        "f = lambda x: x**2 - 2\n",
        "\n",
        "r1 = my_bisection(f, 0, 2, 0.1)\n",
        "print(\"r1 =\", r1)\n",
        "r01 = my_bisection(f, 0, 2, 0.01)\n",
        "print(\"r01 =\", r01)\n",
        "\n",
        "print(\"f(r1) =\", f(r1))\n",
        "print(\"f(r01) =\", f(r01))"
      ],
      "metadata": {
        "colab": {
          "base_uri": "https://localhost:8080/"
        },
        "id": "2PwNVXWLbGC_",
        "outputId": "fd631f68-1287-468f-c21c-1965f5ba1c2d"
      },
      "execution_count": 21,
      "outputs": [
        {
          "output_type": "stream",
          "name": "stdout",
          "text": [
            "r1 = 1.4375\n",
            "r01 = 1.4140625\n",
            "f(r1) = 0.06640625\n",
            "f(r01) = -0.00042724609375\n"
          ]
        }
      ]
    },
    {
      "cell_type": "markdown",
      "source": [
        "### Example 3\n",
        "See what will happen if you use a=2 and b=4 for the above function."
      ],
      "metadata": {
        "id": "paYpoYiWbHzT"
      }
    },
    {
      "cell_type": "code",
      "source": [
        "# my_bisection(f, 2, 4, 0.01)\n",
        "# # Commented out as it throws the following exception\n",
        "# Exception                                 Traceback (most recent call last)\n",
        "\n",
        "# <ipython-input-6-4158b7a9ae67> in <module>()\n",
        "# ----> 1 my_bisection(f, 2, 4, 0.01)\n",
        "\n",
        "# <ipython-input-4-36f06123e87c> in my_bisection(f, a, b, tol)\n",
        "#      10     if np.sign(f(a)) == np.sign(f(b)):\n",
        "#      11         raise Exception(\n",
        "# ---> 12          \"The scalars a and b do not bound a root\")\n",
        "#      13 \n",
        "#      14     # get midpoint\n",
        "\n",
        "# Exception: The scalars a and b do not bound a root"
      ],
      "metadata": {
        "id": "aaBgPcXqbN9q"
      },
      "execution_count": 22,
      "outputs": []
    },
    {
      "cell_type": "markdown",
      "source": [
        "## 19.4 Newton-Raphson Method\n",
        "\n",
        "### Example 1\n",
        "Again, the 2–√ is the root of the function f(x)=x2−2. Using x0=1.4 as a starting point, use the previous equation to estimate 2–√. Compare this approximation with the value computed by Python’s sqrt function."
      ],
      "metadata": {
        "id": "qda0ux4KbYtD"
      }
    },
    {
      "cell_type": "code",
      "source": [
        "import numpy as np\n",
        "\n",
        "f = lambda x: x**2 - 2\n",
        "f_prime = lambda x: 2*x\n",
        "newton_raphson = 1.4 - (f(1.4))/(f_prime(1.4))\n",
        "\n",
        "print(\"newton_raphson =\", newton_raphson)\n",
        "print(\"sqrt(2) =\", np.sqrt(2))"
      ],
      "metadata": {
        "colab": {
          "base_uri": "https://localhost:8080/"
        },
        "id": "B34nC6AubwFH",
        "outputId": "eb850a65-2749-45fc-b6c9-a1698ae98bd1"
      },
      "execution_count": 23,
      "outputs": [
        {
          "output_type": "stream",
          "name": "stdout",
          "text": [
            "newton_raphson = 1.4142857142857144\n",
            "sqrt(2) = 1.4142135623730951\n"
          ]
        }
      ]
    },
    {
      "cell_type": "markdown",
      "source": [
        "### Example 2\n",
        "Write a function my_newton(f,df,x0,tol), where the output is an estimation of the root of f, f is a function object f(x), df is a function object to f′(x), x0 is an initial guess, and tol is the error tolerance. The error measurement should be |f(x)|"
      ],
      "metadata": {
        "id": "q4_MijDCc46e"
      }
    },
    {
      "cell_type": "code",
      "source": [
        "def my_newton(f, df, x0, tol):\n",
        "    # output is an estimation of the root of f \n",
        "    # using the Newton Raphson method\n",
        "    # recursive implementation\n",
        "    if abs(f(x0)) < tol:\n",
        "        return x0\n",
        "    else:\n",
        "        return my_newton(f, df, x0 - f(x0)/df(x0), tol)"
      ],
      "metadata": {
        "id": "6LfOquxGc9GA"
      },
      "execution_count": 24,
      "outputs": []
    },
    {
      "cell_type": "markdown",
      "source": [
        "### Example 2\n",
        "Use my_newton= to compute 2–√ to within tolerance of 1e-6 starting at x0 = 1.5."
      ],
      "metadata": {
        "id": "gXx8_tHrbyx6"
      }
    },
    {
      "cell_type": "code",
      "source": [
        "estimate = my_newton(f, f_prime, 1.5, 1e-6)\n",
        "print(\"estimate =\", estimate)\n",
        "print(\"sqrt(2) =\", np.sqrt(2))"
      ],
      "metadata": {
        "colab": {
          "base_uri": "https://localhost:8080/"
        },
        "id": "QHhBNCn2b1O_",
        "outputId": "94c90a8f-dc3b-4b5b-eb5a-7346481fee02"
      },
      "execution_count": 25,
      "outputs": [
        {
          "output_type": "stream",
          "name": "stdout",
          "text": [
            "estimate = 1.4142135623746899\n",
            "sqrt(2) = 1.4142135623730951\n"
          ]
        }
      ]
    },
    {
      "cell_type": "markdown",
      "source": [
        "## 19.5 Root Finding in Python\n",
        "\n",
        "### Example 1\n",
        "Compute the root of the function f(x)=x3−100x2−x+100 using f_solve."
      ],
      "metadata": {
        "id": "pxqwbENZb4sA"
      }
    },
    {
      "cell_type": "code",
      "source": [
        "from scipy.optimize import fsolve"
      ],
      "metadata": {
        "id": "U7l9YBTkcdFz"
      },
      "execution_count": 26,
      "outputs": []
    },
    {
      "cell_type": "code",
      "source": [
        "f = lambda x: x**3-100*x**2-x+100\n",
        "\n",
        "fsolve(f, [2, 80])"
      ],
      "metadata": {
        "colab": {
          "base_uri": "https://localhost:8080/"
        },
        "id": "A2RCN9KncfWp",
        "outputId": "8a5e2ca0-ff8a-413c-c676-c125469eb776"
      },
      "execution_count": 27,
      "outputs": [
        {
          "output_type": "execute_result",
          "data": {
            "text/plain": [
              "array([  1., 100.])"
            ]
          },
          "metadata": {},
          "execution_count": 27
        }
      ]
    }
  ]
}