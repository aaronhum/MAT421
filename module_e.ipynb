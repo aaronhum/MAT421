{
  "cells": [
    {
      "cell_type": "markdown",
      "metadata": {
        "id": "xjgjoP3WgxOf"
      },
      "source": [
        "# Module E: Section 3.2 and 3.3 Approximation\n",
        "\n",
        "## 3.2 Continuity and Differentiation\n",
        "\n",
        "Example 1: Taking a derivative of f = x^2"
      ]
    },
    {
      "cell_type": "code",
      "execution_count": 21,
      "metadata": {
        "colab": {
          "base_uri": "https://localhost:8080/"
        },
        "id": "m4TirusXgs2u",
        "outputId": "2ea31cdc-fb9d-431f-8c4c-3c3048ee0192"
      },
      "outputs": [
        {
          "name": "stdout",
          "output_type": "stream",
          "text": [
            "2*x\n"
          ]
        }
      ],
      "source": [
        "from sympy import *\n",
        "\n",
        "# Symbol x\n",
        "x = Symbol('x')\n",
        "\n",
        "# Function f\n",
        "f = x**2\n",
        "\n",
        "# Calculating Derivative\n",
        "derivative_f = f.diff(x)\n",
        "\n",
        "# Expected output: 2x\n",
        "print(derivative_f)"
      ]
    },
    {
      "cell_type": "markdown",
      "metadata": {
        "id": "eGlwppNfm-R6"
      },
      "source": [
        "Example 2 and 3: Multivariate differentials"
      ]
    },
    {
      "cell_type": "code",
      "execution_count": 22,
      "metadata": {
        "colab": {
          "base_uri": "https://localhost:8080/"
        },
        "id": "1cbCgYe6nKSI",
        "outputId": "edc6f556-0d17-4aed-9a6a-32d3e5ecc6f4"
      },
      "outputs": [
        {
          "name": "stdout",
          "output_type": "stream",
          "text": [
            "2*x*y\n",
            "2*x*y*z**5\n",
            "x**2*z**5\n"
          ]
        }
      ],
      "source": [
        "import sympy as sym\n",
        "\n",
        "# Symbols x and y\n",
        "x, y = sym.symbols('x y')\n",
        "\n",
        "# Function f\n",
        "f = x**2 * y\n",
        "\n",
        "# Calculating derivative\n",
        "derivative_f = sym.diff(f,x)\n",
        "\n",
        "# Expected output: 2xy\n",
        "print(derivative_f)\n",
        "\n",
        "# Symbols x, y, and z\n",
        "x, y, z = sym.symbols('x y z')\n",
        "\n",
        "# Function f\n",
        "f = x**2 * y * z**5\n",
        "\n",
        "# Calculating derivative\n",
        "derivative_fx = sym.diff(f,x)\n",
        "derivative_fy = sym.diff(f,y)\n",
        "\n",
        "# Expected output: 2xyz^5\n",
        "# Expected output: x^2z^5\n",
        "print(derivative_fx)\n",
        "print(derivative_fy)"
      ]
    },
    {
      "cell_type": "markdown",
      "metadata": {
        "id": "QrkkvrXPrzN3"
      },
      "source": [
        "## 3.3 Unconstrained Optimization\n",
        "\n",
        "Example 1: Least squares regression"
      ]
    },
    {
      "cell_type": "code",
      "execution_count": 23,
      "metadata": {
        "id": "i0rdkIAzsUWY"
      },
      "outputs": [],
      "source": [
        "import numpy as np\n",
        "from scipy import optimize\n",
        "import matplotlib.pyplot as plt\n",
        "\n",
        "plt.style.use('seaborn-poster')"
      ]
    },
    {
      "cell_type": "code",
      "execution_count": 24,
      "metadata": {
        "colab": {
          "base_uri": "https://localhost:8080/"
        },
        "id": "Jt1U1O8UsXzk",
        "outputId": "d8e4987e-0422-46c2-8299-85a22a08dbc7"
      },
      "outputs": [
        {
          "name": "stdout",
          "output_type": "stream",
          "text": [
            "[[1.47037306]\n",
            " [1.00054715]]\n"
          ]
        }
      ],
      "source": [
        "# generate x and y\n",
        "x = np.linspace(0, 1, 101)\n",
        "y = 1 + x + x * np.random.random(len(x))\n",
        "\n",
        "# assemble matrix A\n",
        "A = np.vstack([x, np.ones(len(x))]).T\n",
        "\n",
        "# turn y into a column vector\n",
        "y = y[:, np.newaxis]\n",
        "\n",
        "# Direct least square regression\n",
        "alpha = np.dot((np.dot(np.linalg.inv(np.dot(A.T,A)),A.T)),y)\n",
        "print(alpha)"
      ]
    },
    {
      "cell_type": "code",
      "execution_count": 25,
      "metadata": {
        "colab": {
          "base_uri": "https://localhost:8080/",
          "height": 505
        },
        "id": "b9yoS-ljsdPc",
        "outputId": "0679eb9f-56e2-4e5e-fc18-96223fa7de51"
      },
      "outputs": [
        {
          "data": {
            "image/png": "[encoded data removed]",
            "text/plain": [
              "<Figure size 720x576 with 1 Axes>"
            ]
          },
          "metadata": {
            "needs_background": "light"
          },
          "output_type": "display_data"
        }
      ],
      "source": [
        "# plot the results\n",
        "plt.figure(figsize = (10,8))\n",
        "plt.plot(x, y, 'b.')\n",
        "plt.plot(x, alpha[0]*x + alpha[1], 'r')\n",
        "plt.xlabel('x')\n",
        "plt.ylabel('y')\n",
        "plt.show()"
      ]
    },
    {
      "cell_type": "markdown",
      "metadata": {
        "id": "n3MNyb01siD4"
      },
      "source": [
        "Example 2: Using the pseudoinverse"
      ]
    },
    {
      "cell_type": "code",
      "execution_count": 26,
      "metadata": {
        "colab": {
          "base_uri": "https://localhost:8080/"
        },
        "id": "1vMddZ8qsx7p",
        "outputId": "e0b1c12c-c8f2-430c-f227-9efb2c877f83"
      },
      "outputs": [
        {
          "name": "stdout",
          "output_type": "stream",
          "text": [
            "[[1.47037306]\n",
            " [1.00054715]]\n"
          ]
        }
      ],
      "source": [
        "pinv = np.linalg.pinv(A)\n",
        "alpha = pinv.dot(y)\n",
        "print(alpha)"
      ]
    },
    {
      "cell_type": "markdown",
      "metadata": {
        "id": "ZXjpwzAVs5NI"
      },
      "source": [
        "Example 3: using numpy.linalg.lstsq"
      ]
    },
    {
      "cell_type": "code",
      "execution_count": 27,
      "metadata": {
        "colab": {
          "base_uri": "https://localhost:8080/"
        },
        "id": "rx2pUqwAs--3",
        "outputId": "b725ebc9-d01d-4b79-c645-7b8cf4d9f79d"
      },
      "outputs": [
        {
          "name": "stdout",
          "output_type": "stream",
          "text": [
            "[[1.47037306]\n",
            " [1.00054715]]\n"
          ]
        }
      ],
      "source": [
        "alpha = np.linalg.lstsq(A, y, rcond=None)[0]\n",
        "print(alpha)"
      ]
    },
    {
      "cell_type": "markdown",
      "metadata": {
        "id": "iiTQOohIs99y"
      },
      "source": [
        "Example 4: Use optimize.curve_fit from scipy"
      ]
    },
    {
      "cell_type": "code",
      "execution_count": 28,
      "metadata": {
        "colab": {
          "base_uri": "https://localhost:8080/"
        },
        "id": "Od5x9WMatEnz",
        "outputId": "80326f56-0d86-477e-b1e3-2c674793f3f6"
      },
      "outputs": [
        {
          "name": "stdout",
          "output_type": "stream",
          "text": [
            "[1.46433035 1.01001804]\n"
          ]
        }
      ],
      "source": [
        "# generate x and y\n",
        "x = np.linspace(0, 1, 101)\n",
        "y = 1 + x + x * np.random.random(len(x))\n",
        "\n",
        "def func(x, a, b):\n",
        "    y = a*x + b\n",
        "    return y\n",
        "\n",
        "alpha = optimize.curve_fit(func, xdata = x, ydata = y)[0]\n",
        "print(alpha)"
      ]
    }
  ],
  "metadata": {
    "colab": {
      "collapsed_sections": [],
      "name": "module_e.ipynb",
      "provenance": []
    },
    "kernelspec": {
      "display_name": "Python 3",
      "name": "python3"
    },
    "language_info": {
      "name": "python"
    }
  },
  "nbformat": 4,
  "nbformat_minor": 0
}
