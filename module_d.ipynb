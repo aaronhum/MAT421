{
  "cells": [
    {
      "cell_type": "markdown",
      "metadata": {
        "id": "__ax-W3OF7cP"
      },
      "source": [
        "# Module D: Section 1.1-4 Linear Algebra"
      ]
    },
    {
      "cell_type": "markdown",
      "metadata": {
        "id": "DCiRuzZJF7cR"
      },
      "source": [
        "## Section 1.1 Introduction\n",
        "\n",
        "Excerpt from the transcript:\n",
        "\n",
        "Linear algebra is a field of mathematics that is widely used in various disciplines. Linear algebra plays an important role in data science and machine learning. A solid understanding of linear algebra concepts can enhance the understanding of many data science and machine learning algorithms. This chapter introduces basic concepts for data science and includes vector spaces, orthogonality, eigenvalues, matrix decomposition and further expanded to in-clude linear regression and principal component analysis where linear algebra plays a central role for solving data science problems. More advanced concepts and applications of linear algebra can be found in many references [1, 2, 3, 4]"
      ]
    },
    {
      "cell_type": "markdown",
      "metadata": {
        "id": "YgHgLTSmF7cS"
      },
      "source": [
        "## 1.2 Elements of Linear Algebra\n",
        "\n",
        "### 1.2.1 Linear Spaces\n",
        "\n",
        "#### 1.2.1.1 Linear Combinations\n",
        "\n",
        "Example 1: Here's an example of swapping the first and third elements of an array using scalars"
      ]
    },
    {
      "cell_type": "code",
      "execution_count": 15,
      "metadata": {
        "colab": {
          "base_uri": "https://localhost:8080/"
        },
        "id": "vp1vopt9F7cU",
        "outputId": "826d6c53-a1e6-4b89-c65a-751c28da6401"
      },
      "outputs": [
        {
          "name": "stdout",
          "output_type": "stream",
          "text": [
            "[700.7 300.3 100.1]\n"
          ]
        }
      ],
      "source": [
        "import numpy as np\n",
        "x = np.array([[0, 0, 1],\n",
        "              [0, 1, 0],\n",
        "              [1, 0, 0]])\n",
        "y = ([100.1, 300.3, 700.7])\n",
        "scalars = np.linalg.solve(x, y)\n",
        "# Expected output: [700.7 300.3 100.1]\n",
        "print(scalars)"
      ]
    },
    {
      "cell_type": "markdown",
      "metadata": {
        "id": "YYVwl-QgGzY6"
      },
      "source": [
        "Example 2: Write vector y as a linear combination of vectors (0,1,1), (1,1,0), and (1,0,1)"
      ]
    },
    {
      "cell_type": "code",
      "execution_count": 16,
      "metadata": {
        "colab": {
          "base_uri": "https://localhost:8080/"
        },
        "id": "L00GJqWWGyfd",
        "outputId": "d1fc64dd-38e8-4cef-dbd6-516cb67f77e4"
      },
      "outputs": [
        {
          "name": "stdout",
          "output_type": "stream",
          "text": [
            "[ 450.45 -150.15  250.25]\n"
          ]
        }
      ],
      "source": [
        "x = np.array([[0, 1, 1],\n",
        "              [1, 1, 0],\n",
        "              [1, 0, 1]])\n",
        "y = ([100.1, 300.3, 700.7])\n",
        "scalars = np.linalg.solve(x, y)\n",
        "# Expected output: [450.45 -150.15  250.25]\n",
        "print(scalars)"
      ]
    },
    {
      "cell_type": "markdown",
      "metadata": {
        "id": "fr88zbVHHtPD"
      },
      "source": [
        "### 1.2.2 Orthogonality\n",
        "\n",
        "Vector 1 is orthogonal to vector 2 if and only if the dot product of v1.v2 is equal to 0. (v1.v2 = v1T v2 = 0).\n",
        "\n",
        "Example 1: Orthogonal Vector calculation check in Python"
      ]
    },
    {
      "cell_type": "code",
      "execution_count": 17,
      "metadata": {
        "colab": {
          "base_uri": "https://localhost:8080/"
        },
        "id": "8Y_p5536IWyn",
        "outputId": "d3c105ea-4d98-478c-fdb6-c7b404acfe63"
      },
      "outputs": [
        {
          "name": "stdout",
          "output_type": "stream",
          "text": [
            "[[-2]]\n"
          ]
        }
      ],
      "source": [
        "# Vectors that are NOT orthogonal\n",
        "v1 = [[2,-2,3]]\n",
        "v2 = [[1,5,2]]\n",
        "\n",
        "v1_transpose = np.transpose(v1)\n",
        "\n",
        "zero_if_orthogonal = np.dot(v2, v1_transpose)\n",
        "# Expected output: [[-2]]\n",
        "print(zero_if_orthogonal)"
      ]
    },
    {
      "cell_type": "code",
      "execution_count": 18,
      "metadata": {
        "colab": {
          "base_uri": "https://localhost:8080/"
        },
        "id": "FF3D18uPJ7fp",
        "outputId": "501d9392-7da0-489e-e6c9-59e43146f66f"
      },
      "outputs": [
        {
          "name": "stdout",
          "output_type": "stream",
          "text": [
            "[[0]]\n"
          ]
        }
      ],
      "source": [
        "# Vectors that ARE orthogonal\n",
        "v1 = [[1,4,-2]]\n",
        "v2 = [[2,2,5]]\n",
        "\n",
        "v1_transpose = np.transpose(v1)\n",
        "\n",
        "zero_if_orthogonal = np.dot(v2, v1_transpose)\n",
        "# Expected output: [[0]]\n",
        "print(zero_if_orthogonal)"
      ]
    },
    {
      "cell_type": "markdown",
      "metadata": {
        "id": "dQI1mYxXKOZP"
      },
      "source": [
        "### 1.2.4 Eigenvalues and Eigenvectors\n",
        "\n",
        "For λ to be an eigenvalue, there must be an nonzero eigenvector x = (x1, x2)T such that\n",
        "Ax = λx\n",
        "\n",
        "Example 1: Calculate the eigenvalues and eigenvectors for matrix A = [[0,2],[2,3]]"
      ]
    },
    {
      "cell_type": "code",
      "execution_count": 19,
      "metadata": {
        "colab": {
          "base_uri": "https://localhost:8080/"
        },
        "id": "_VappZo_K1zb",
        "outputId": "b148c1ff-08cf-4488-90aa-0edeeee3ba96"
      },
      "outputs": [
        {
          "name": "stdout",
          "output_type": "stream",
          "text": [
            "E-value:  [-1.  4.]\n",
            "E-vector:  [[-0.89442719 -0.4472136 ]\n",
            " [ 0.4472136  -0.89442719]]\n"
          ]
        }
      ],
      "source": [
        "import numpy as np\n",
        "from numpy.linalg import eig\n",
        "\n",
        "a = np.array([[0, 2], \n",
        "              [2, 3]])\n",
        "w,v=eig(a)\n",
        "print('E-value: ', w)\n",
        "print('E-vector: ', v)"
      ]
    },
    {
      "cell_type": "markdown",
      "metadata": {
        "id": "NSALHgPyLEO8"
      },
      "source": [
        "Example 2: Compute the eigenvalues and eigenvectors for matrix A = [[2,2,4],[1,3,5],[2,3,5]]"
      ]
    },
    {
      "cell_type": "code",
      "execution_count": 20,
      "metadata": {
        "colab": {
          "base_uri": "https://localhost:8080/"
        },
        "id": "GGrZ2MaxLNJX",
        "outputId": "a2d5d28e-0725-40e7-d2f1-d4bdec5002eb"
      },
      "outputs": [
        {
          "name": "stdout",
          "output_type": "stream",
          "text": [
            "E-value:  [ 8.80916362  0.92620912 -0.73537273]\n",
            "E-vector:  [[-0.52799324 -0.77557092 -0.36272811]\n",
            " [-0.604391    0.62277013 -0.7103262 ]\n",
            " [-0.59660259 -0.10318482  0.60321224]]\n"
          ]
        }
      ],
      "source": [
        "a = np.array([[2, 2, 4], \n",
        "              [1, 3, 5],\n",
        "              [2, 3, 4]])\n",
        "w,v=eig(a)\n",
        "print('E-value: ', w)\n",
        "print('E-vector: ', v)"
      ]
    },
    {
      "cell_type": "markdown",
      "metadata": {
        "id": "AYSgdRseLYyD"
      },
      "source": [
        "## 1.3 Linear Regression"
      ]
    },
    {
      "cell_type": "code",
      "execution_count": 21,
      "metadata": {
        "colab": {
          "base_uri": "https://localhost:8080/"
        },
        "id": "KxzP_1qXMqST",
        "outputId": "7db4a842-979d-4319-d21e-5f3f3d82ca85"
      },
      "outputs": [
        {
          "name": "stdout",
          "output_type": "stream",
          "text": [
            "coefficient of determination: 0.7158756137479542\n",
            "intercept: 5.633333333333329\n",
            "slope: [0.54]\n",
            "intercept: [5.63333333]\n",
            "slope: [[0.54]]\n",
            "predicted response:\n",
            "[ 8.33333333 13.73333333 19.13333333 24.53333333 29.93333333 35.33333333]\n"
          ]
        }
      ],
      "source": [
        "import numpy as np\n",
        "from sklearn.linear_model import LinearRegression\n",
        "\n",
        "x = np.array([5, 15, 25, 35, 45, 55]).reshape((-1, 1))\n",
        "y = np.array([5, 20, 14, 32, 22, 38])\n",
        "\n",
        "model = LinearRegression()\n",
        "\n",
        "model.fit(x, y)\n",
        "\n",
        "r_sq = model.score(x, y)\n",
        "print('coefficient of determination:', r_sq)\n",
        "\n",
        "print('intercept:', model.intercept_)\n",
        "\n",
        "print('slope:', model.coef_)\n",
        "\n",
        "new_model = LinearRegression().fit(x, y.reshape((-1, 1)))\n",
        "print('intercept:', new_model.intercept_)\n",
        "\n",
        "print('slope:', new_model.coef_)\n",
        "\n",
        "y_pred = model.predict(x)\n",
        "print('predicted response:', y_pred, sep='\\n')"
      ]
    },
    {
      "cell_type": "markdown",
      "metadata": {
        "id": "VwTlLVVEOBgH"
      },
      "source": [
        "## 1.4 Principal Component Analysis\n",
        "\n",
        "\n",
        "### 1.4.1 Singular Value Decomposition\n",
        "\n",
        "Any factorization A = U ∑ V T , with U and V orthogonal and ∑, is called a singular value decomposition SVD of A. The matrices U and V are not unique, but the diagonal entries of ∑ are necessarily the singular values of A. The column of U in such a decomposition are called left singular vectors of A, and the column of V are called right singular vectors of A.\n",
        "\n",
        "Example 1: SVD of matrix A=[[3,4,3],[2,1,3],[4,2,1]] in Python"
      ]
    },
    {
      "cell_type": "code",
      "execution_count": 22,
      "metadata": {
        "colab": {
          "base_uri": "https://localhost:8080/"
        },
        "id": "skcWFS5DO9Pd",
        "outputId": "61a8b904-72bf-4a4a-b0e1-677c01f4d833"
      },
      "outputs": [
        {
          "name": "stdout",
          "output_type": "stream",
          "text": [
            "Matrix A:  [[3, 4, 3], [1, 2, 3], [4, 2, 1]]\n",
            "U:  [[-0.73553325 -0.18392937 -0.65204358]\n",
            " [-0.42657919 -0.62196982  0.65664582]\n",
            " [-0.52632788  0.76113306  0.37901904]]\n",
            "S:  [7.87764972 2.54031671 0.69958986]\n",
            "VT:  [[-0.52799324 -0.77557092 -0.36272811]\n",
            " [-0.604391    0.62277013 -0.7103262 ]\n",
            " [-0.59660259 -0.10318482  0.60321224]]\n",
            "A Check:  [[3. 4. 3.]\n",
            " [1. 2. 3.]\n",
            " [4. 2. 1.]]\n"
          ]
        }
      ],
      "source": [
        "import numpy as np\n",
        "\n",
        "A = [[3,4,3],[1,2,3],[4,2,1]]\n",
        "\n",
        "\n",
        "u,s,vT = np.linalg.svd(A)\n",
        "\n",
        "A_check = (u @ np.diag(s) @ vT)\n",
        "\n",
        "print(\"Matrix A: \", A)\n",
        "\n",
        "print(\"U: \", u)\n",
        "print(\"S: \", s)\n",
        "print(\"VT: \", v)\n",
        "\n",
        "print(\"A Check: \", A_check)"
      ]
    }
  ],
  "metadata": {
    "colab": {
      "collapsed_sections": [],
      "name": "module_d.ipynb",
      "provenance": []
    },
    "interpreter": {
      "hash": "2c948cddf896161a1d7f91c6ae189d218fd0ee3048e00bd5b13002b76c05dcd5"
    },
    "kernelspec": {
      "display_name": "Python 3.10.2 64-bit",
      "language": "python",
      "name": "python3"
    },
    "language_info": {
      "codemirror_mode": {
        "name": "ipython",
        "version": 3
      },
      "file_extension": ".py",
      "mimetype": "text/x-python",
      "name": "python",
      "nbconvert_exporter": "python",
      "pygments_lexer": "ipython3",
      "version": "3.10.2"
    },
    "orig_nbformat": 4
  },
  "nbformat": 4,
  "nbformat_minor": 0
}
