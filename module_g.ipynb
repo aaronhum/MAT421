{
  "nbformat": 4,
  "nbformat_minor": 0,
  "metadata": {
    "colab": {
      "name": "module_g.ipynb",
      "provenance": []
    },
    "kernelspec": {
      "name": "python3",
      "display_name": "Python 3"
    },
    "language_info": {
      "name": "python"
    }
  },
  "cells": [
    {
      "cell_type": "markdown",
      "source": [
        "# Module G Numerical Integration 21.1-3"
      ],
      "metadata": {
        "id": "MRxXMyRd2w14"
      }
    },
    {
      "cell_type": "markdown",
      "source": [
        "## 21.1 Numerical Integration Problem Statement\n",
        "\n",
        "From the book: \n",
        "\"Given a function f(x), we want to approximate the integral of f(x) over the total interval, [a,b]. The following figure illustrates this area. To accomplish this goal, we assume that the interval has been discretized into a numeral grid, x, consisting of n+1 points with spacing, h=b−an. Here, we denote each point in x by xi, where x0=a and xn=b. Note: There are n+1 grid points because the count starts at x0. We also assume we have a function, f(x), that can be computed for any of the grid points, or that we have been given the function implicitly as f(xi). The interval [xi,xi+1] is referred to as a subinterval.\""
      ],
      "metadata": {
        "id": "e3_bywn526tL"
      }
    },
    {
      "cell_type": "markdown",
      "source": [
        "## 21.2 Riemanns Integral\n",
        "\n",
        "Example: Use the left Riemann Integral, right Riemann Integral, and Midpoint Rule to approximate ∫π0sin(x)dx wtih 11 evenly spaced grid ponts over the whole interval. Compare this value to the exact value of 2."
      ],
      "metadata": {
        "id": "ChdCONAf3E2b"
      }
    },
    {
      "cell_type": "code",
      "source": [
        "import numpy as np\n",
        "\n",
        "a = 0\n",
        "b = np.pi\n",
        "n = 11\n",
        "h = (b - a) / (n - 1)\n",
        "x = np.linspace(a, b, n)\n",
        "f = np.sin(x)\n",
        "\n",
        "I_riemannL = h * sum(f[:n-1])\n",
        "err_riemannL = 2 - I_riemannL\n",
        "\n",
        "I_riemannR = h * sum(f[1::])\n",
        "err_riemannR = 2 - I_riemannR\n",
        "\n",
        "I_mid = h * sum(np.sin((x[:n-1] \\\n",
        "        + x[1:])/2))\n",
        "err_mid = 2 - I_mid\n",
        "\n",
        "print(I_riemannL)\n",
        "print(err_riemannL)\n",
        "\n",
        "print(I_riemannR)\n",
        "print(err_riemannR)\n",
        "\n",
        "print(I_mid)\n",
        "print(err_mid)"
      ],
      "metadata": {
        "colab": {
          "base_uri": "https://localhost:8080/"
        },
        "id": "BnxgEvZF26Sb",
        "outputId": "441c8313-c333-4a9d-b97b-edd8fd864766"
      },
      "execution_count": 1,
      "outputs": [
        {
          "output_type": "stream",
          "name": "stdout",
          "text": [
            "1.9835235375094546\n",
            "0.01647646249054535\n",
            "1.9835235375094546\n",
            "0.01647646249054535\n",
            "2.0082484079079745\n",
            "-0.008248407907974542\n"
          ]
        }
      ]
    },
    {
      "cell_type": "markdown",
      "source": [
        "## 21.3 Trapezoid Rule\n",
        "\n",
        "Example: Use the Trapezoid Rule to approximate ∫π0sin(x)dx with 11 evenly spaced grid points over the whole interval. Compare this value to the exact value of 2."
      ],
      "metadata": {
        "id": "7agyne1f3QhH"
      }
    },
    {
      "cell_type": "code",
      "execution_count": 2,
      "metadata": {
        "colab": {
          "base_uri": "https://localhost:8080/"
        },
        "id": "1bdT6c3g2sBA",
        "outputId": "fdeab894-8d67-4e72-e018-486604bde378"
      },
      "outputs": [
        {
          "output_type": "stream",
          "name": "stdout",
          "text": [
            "1.9835235375094546\n",
            "0.01647646249054535\n"
          ]
        }
      ],
      "source": [
        "import numpy as np\n",
        "\n",
        "a = 0\n",
        "b = np.pi\n",
        "n = 11\n",
        "h = (b - a) / (n - 1)\n",
        "x = np.linspace(a, b, n)\n",
        "f = np.sin(x)\n",
        "\n",
        "I_trap = (h/2)*(f[0] + \\\n",
        "          2 * sum(f[1:n-1]) + f[n-1])\n",
        "err_trap = 2 - I_trap\n",
        "\n",
        "print(I_trap)\n",
        "print(err_trap)"
      ]
    }
  ]
}